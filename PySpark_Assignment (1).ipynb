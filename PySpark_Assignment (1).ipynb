{
  "nbformat": 4,
  "nbformat_minor": 0,
  "metadata": {
    "colab": {
      "provenance": []
    },
    "kernelspec": {
      "name": "python3",
      "display_name": "Python 3"
    },
    "language_info": {
      "name": "python"
    }
  },
  "cells": [
    {
      "cell_type": "code",
      "execution_count": 1,
      "metadata": {
        "colab": {
          "base_uri": "https://localhost:8080/"
        },
        "id": "L7W5AgyO6L8Z",
        "outputId": "0e822c76-e3c9-432e-8fdf-5465a3b066c0"
      },
      "outputs": [
        {
          "output_type": "stream",
          "name": "stdout",
          "text": [
            "Collecting pyspark\n",
            "  Downloading pyspark-3.5.0.tar.gz (316.9 MB)\n",
            "\u001b[2K     \u001b[90m━━━━━━━━━━━━━━━━━━━━━━━━━━━━━━━━━━━━━━━━\u001b[0m \u001b[32m316.9/316.9 MB\u001b[0m \u001b[31m2.1 MB/s\u001b[0m eta \u001b[36m0:00:00\u001b[0m\n",
            "\u001b[?25h  Preparing metadata (setup.py) ... \u001b[?25l\u001b[?25hdone\n",
            "Requirement already satisfied: py4j==0.10.9.7 in /usr/local/lib/python3.10/dist-packages (from pyspark) (0.10.9.7)\n",
            "Building wheels for collected packages: pyspark\n",
            "  Building wheel for pyspark (setup.py) ... \u001b[?25l\u001b[?25hdone\n",
            "  Created wheel for pyspark: filename=pyspark-3.5.0-py2.py3-none-any.whl size=317425344 sha256=a38ca217601f2d9e4d3719584d8880f0b5d7114141a04d8c3ad166d4c59a6dc5\n",
            "  Stored in directory: /root/.cache/pip/wheels/41/4e/10/c2cf2467f71c678cfc8a6b9ac9241e5e44a01940da8fbb17fc\n",
            "Successfully built pyspark\n",
            "Installing collected packages: pyspark\n",
            "Successfully installed pyspark-3.5.0\n"
          ]
        }
      ],
      "source": [
        "pip install pyspark"
      ]
    },
    {
      "cell_type": "code",
      "source": [],
      "metadata": {
        "id": "a5f81fYq6nxa"
      },
      "execution_count": null,
      "outputs": []
    },
    {
      "cell_type": "code",
      "source": [
        "import pyspark"
      ],
      "metadata": {
        "id": "tnvwxYF76yax"
      },
      "execution_count": 2,
      "outputs": []
    },
    {
      "cell_type": "code",
      "source": [
        "from pyspark.sql import SparkSession\n",
        "from pyspark.sql import SQLContext\n",
        "from pyspark import SparkContext"
      ],
      "metadata": {
        "id": "Hj6nL_Uu6zxB"
      },
      "execution_count": 3,
      "outputs": []
    },
    {
      "cell_type": "code",
      "source": [
        "spark = SparkSession.builder.appName('Practice').getOrCreate()"
      ],
      "metadata": {
        "id": "ugtyzbXF62Dc"
      },
      "execution_count": 9,
      "outputs": []
    },
    {
      "cell_type": "code",
      "source": [
        "sc = SparkContext.getOrCreate()"
      ],
      "metadata": {
        "id": "g6iRPLGi65Gb"
      },
      "execution_count": 4,
      "outputs": []
    },
    {
      "cell_type": "code",
      "source": [
        "from google.colab import files\n",
        "uploaded = files.upload()\n"
      ],
      "metadata": {
        "colab": {
          "base_uri": "https://localhost:8080/",
          "height": 108
        },
        "id": "rKHyOQLv6sIm",
        "outputId": "2dc6ba94-8708-4dfc-cc34-c3bba646578c"
      },
      "execution_count": 7,
      "outputs": [
        {
          "output_type": "display_data",
          "data": {
            "text/plain": [
              "<IPython.core.display.HTML object>"
            ],
            "text/html": [
              "\n",
              "     <input type=\"file\" id=\"files-673e417a-2c08-4eab-abd3-9183d4a21798\" name=\"files[]\" multiple disabled\n",
              "        style=\"border:none\" />\n",
              "     <output id=\"result-673e417a-2c08-4eab-abd3-9183d4a21798\">\n",
              "      Upload widget is only available when the cell has been executed in the\n",
              "      current browser session. Please rerun this cell to enable.\n",
              "      </output>\n",
              "      <script>// Copyright 2017 Google LLC\n",
              "//\n",
              "// Licensed under the Apache License, Version 2.0 (the \"License\");\n",
              "// you may not use this file except in compliance with the License.\n",
              "// You may obtain a copy of the License at\n",
              "//\n",
              "//      http://www.apache.org/licenses/LICENSE-2.0\n",
              "//\n",
              "// Unless required by applicable law or agreed to in writing, software\n",
              "// distributed under the License is distributed on an \"AS IS\" BASIS,\n",
              "// WITHOUT WARRANTIES OR CONDITIONS OF ANY KIND, either express or implied.\n",
              "// See the License for the specific language governing permissions and\n",
              "// limitations under the License.\n",
              "\n",
              "/**\n",
              " * @fileoverview Helpers for google.colab Python module.\n",
              " */\n",
              "(function(scope) {\n",
              "function span(text, styleAttributes = {}) {\n",
              "  const element = document.createElement('span');\n",
              "  element.textContent = text;\n",
              "  for (const key of Object.keys(styleAttributes)) {\n",
              "    element.style[key] = styleAttributes[key];\n",
              "  }\n",
              "  return element;\n",
              "}\n",
              "\n",
              "// Max number of bytes which will be uploaded at a time.\n",
              "const MAX_PAYLOAD_SIZE = 100 * 1024;\n",
              "\n",
              "function _uploadFiles(inputId, outputId) {\n",
              "  const steps = uploadFilesStep(inputId, outputId);\n",
              "  const outputElement = document.getElementById(outputId);\n",
              "  // Cache steps on the outputElement to make it available for the next call\n",
              "  // to uploadFilesContinue from Python.\n",
              "  outputElement.steps = steps;\n",
              "\n",
              "  return _uploadFilesContinue(outputId);\n",
              "}\n",
              "\n",
              "// This is roughly an async generator (not supported in the browser yet),\n",
              "// where there are multiple asynchronous steps and the Python side is going\n",
              "// to poll for completion of each step.\n",
              "// This uses a Promise to block the python side on completion of each step,\n",
              "// then passes the result of the previous step as the input to the next step.\n",
              "function _uploadFilesContinue(outputId) {\n",
              "  const outputElement = document.getElementById(outputId);\n",
              "  const steps = outputElement.steps;\n",
              "\n",
              "  const next = steps.next(outputElement.lastPromiseValue);\n",
              "  return Promise.resolve(next.value.promise).then((value) => {\n",
              "    // Cache the last promise value to make it available to the next\n",
              "    // step of the generator.\n",
              "    outputElement.lastPromiseValue = value;\n",
              "    return next.value.response;\n",
              "  });\n",
              "}\n",
              "\n",
              "/**\n",
              " * Generator function which is called between each async step of the upload\n",
              " * process.\n",
              " * @param {string} inputId Element ID of the input file picker element.\n",
              " * @param {string} outputId Element ID of the output display.\n",
              " * @return {!Iterable<!Object>} Iterable of next steps.\n",
              " */\n",
              "function* uploadFilesStep(inputId, outputId) {\n",
              "  const inputElement = document.getElementById(inputId);\n",
              "  inputElement.disabled = false;\n",
              "\n",
              "  const outputElement = document.getElementById(outputId);\n",
              "  outputElement.innerHTML = '';\n",
              "\n",
              "  const pickedPromise = new Promise((resolve) => {\n",
              "    inputElement.addEventListener('change', (e) => {\n",
              "      resolve(e.target.files);\n",
              "    });\n",
              "  });\n",
              "\n",
              "  const cancel = document.createElement('button');\n",
              "  inputElement.parentElement.appendChild(cancel);\n",
              "  cancel.textContent = 'Cancel upload';\n",
              "  const cancelPromise = new Promise((resolve) => {\n",
              "    cancel.onclick = () => {\n",
              "      resolve(null);\n",
              "    };\n",
              "  });\n",
              "\n",
              "  // Wait for the user to pick the files.\n",
              "  const files = yield {\n",
              "    promise: Promise.race([pickedPromise, cancelPromise]),\n",
              "    response: {\n",
              "      action: 'starting',\n",
              "    }\n",
              "  };\n",
              "\n",
              "  cancel.remove();\n",
              "\n",
              "  // Disable the input element since further picks are not allowed.\n",
              "  inputElement.disabled = true;\n",
              "\n",
              "  if (!files) {\n",
              "    return {\n",
              "      response: {\n",
              "        action: 'complete',\n",
              "      }\n",
              "    };\n",
              "  }\n",
              "\n",
              "  for (const file of files) {\n",
              "    const li = document.createElement('li');\n",
              "    li.append(span(file.name, {fontWeight: 'bold'}));\n",
              "    li.append(span(\n",
              "        `(${file.type || 'n/a'}) - ${file.size} bytes, ` +\n",
              "        `last modified: ${\n",
              "            file.lastModifiedDate ? file.lastModifiedDate.toLocaleDateString() :\n",
              "                                    'n/a'} - `));\n",
              "    const percent = span('0% done');\n",
              "    li.appendChild(percent);\n",
              "\n",
              "    outputElement.appendChild(li);\n",
              "\n",
              "    const fileDataPromise = new Promise((resolve) => {\n",
              "      const reader = new FileReader();\n",
              "      reader.onload = (e) => {\n",
              "        resolve(e.target.result);\n",
              "      };\n",
              "      reader.readAsArrayBuffer(file);\n",
              "    });\n",
              "    // Wait for the data to be ready.\n",
              "    let fileData = yield {\n",
              "      promise: fileDataPromise,\n",
              "      response: {\n",
              "        action: 'continue',\n",
              "      }\n",
              "    };\n",
              "\n",
              "    // Use a chunked sending to avoid message size limits. See b/62115660.\n",
              "    let position = 0;\n",
              "    do {\n",
              "      const length = Math.min(fileData.byteLength - position, MAX_PAYLOAD_SIZE);\n",
              "      const chunk = new Uint8Array(fileData, position, length);\n",
              "      position += length;\n",
              "\n",
              "      const base64 = btoa(String.fromCharCode.apply(null, chunk));\n",
              "      yield {\n",
              "        response: {\n",
              "          action: 'append',\n",
              "          file: file.name,\n",
              "          data: base64,\n",
              "        },\n",
              "      };\n",
              "\n",
              "      let percentDone = fileData.byteLength === 0 ?\n",
              "          100 :\n",
              "          Math.round((position / fileData.byteLength) * 100);\n",
              "      percent.textContent = `${percentDone}% done`;\n",
              "\n",
              "    } while (position < fileData.byteLength);\n",
              "  }\n",
              "\n",
              "  // All done.\n",
              "  yield {\n",
              "    response: {\n",
              "      action: 'complete',\n",
              "    }\n",
              "  };\n",
              "}\n",
              "\n",
              "scope.google = scope.google || {};\n",
              "scope.google.colab = scope.google.colab || {};\n",
              "scope.google.colab._files = {\n",
              "  _uploadFiles,\n",
              "  _uploadFilesContinue,\n",
              "};\n",
              "})(self);\n",
              "</script> "
            ]
          },
          "metadata": {}
        },
        {
          "output_type": "stream",
          "name": "stdout",
          "text": [
            "Saving fo28SEP2023bhav.csv to fo28SEP2023bhav.csv\n",
            "Saving fo28AUG2023bhav.csv to fo28AUG2023bhav.csv\n"
          ]
        }
      ]
    },
    {
      "cell_type": "code",
      "source": [
        "file_paths = list(uploaded.keys())  #\n",
        "df = spark.read.option('header','true').csv(file_paths)"
      ],
      "metadata": {
        "id": "fjTO_vP67VVO"
      },
      "execution_count": 10,
      "outputs": []
    },
    {
      "cell_type": "code",
      "source": [
        "# df = spark.read.csv('/content/fo01SEP2023bhav.csv',header=True)"
      ],
      "metadata": {
        "id": "cKjF176b7TXH"
      },
      "execution_count": null,
      "outputs": []
    },
    {
      "cell_type": "code",
      "source": [
        "df.show(15)"
      ],
      "metadata": {
        "colab": {
          "base_uri": "https://localhost:8080/"
        },
        "id": "8N4SFy-j8j7L",
        "outputId": "ffd9142e-5fb4-41e9-9746-5061ea8c19d0"
      },
      "execution_count": 11,
      "outputs": [
        {
          "output_type": "stream",
          "name": "stdout",
          "text": [
            "+----------+----------+-----------+---------+----------+--------+--------+--------+--------+---------+---------+----------+--------+---------+-----------+----+\n",
            "|INSTRUMENT|    SYMBOL|  EXPIRY_DT|STRIKE_PR|OPTION_TYP|    OPEN|    HIGH|     LOW|   CLOSE|SETTLE_PR|CONTRACTS|VAL_INLAKH|OPEN_INT|CHG_IN_OI|  TIMESTAMP|_c15|\n",
            "+----------+----------+-----------+---------+----------+--------+--------+--------+--------+---------+---------+----------+--------+---------+-----------+----+\n",
            "|    FUTIDX| BANKNIFTY|28-Sep-2023|        0|        XX| 44509.4|   44745|44290.05|44310.85| 44300.95|   142353| 948844.98|  403500|  -686340|28-SEP-2023|NULL|\n",
            "|    FUTIDX| BANKNIFTY|26-Oct-2023|        0|        XX|44981.05|44992.95| 44568.8|44605.55| 44605.55|   179158|1202203.49| 2203755|   893325|28-SEP-2023|NULL|\n",
            "|    FUTIDX| BANKNIFTY|30-Nov-2023|        0|        XX|44834.25|   45300|44834.25| 44924.6|  44924.6|     5513|  37246.93|  180495|    22575|28-SEP-2023|NULL|\n",
            "|    FUTIDX|  FINNIFTY|31-Oct-2023|        0|        XX|19947.95|   19975| 19820.1| 19847.4|  19847.4|     1065|   8470.58|   51360|     -640|28-SEP-2023|NULL|\n",
            "|    FUTIDX|  FINNIFTY|28-Nov-2023|        0|        XX|20077.75|20077.75|   19920|19961.55| 19912.75|       10|     79.87|     800|      160|28-SEP-2023|NULL|\n",
            "|    FUTIDX|  FINNIFTY|26-Dec-2023|        0|        XX|       0|       0|       0|20154.45|  20022.6|        0|         0|       0|        0|28-SEP-2023|NULL|\n",
            "|    FUTIDX|MIDCPNIFTY|30-Oct-2023|        0|        XX|    9185|  9191.6| 8937.75| 8959.15|  8959.15|     5453|  36998.02|  408525|     6000|28-SEP-2023|NULL|\n",
            "|    FUTIDX|MIDCPNIFTY|24-Nov-2023|        0|        XX|  9158.2| 9162.25|    8950|    8950|     8950|       14|     95.22|    1200|        0|28-SEP-2023|NULL|\n",
            "|    FUTIDX|MIDCPNIFTY|22-Dec-2023|        0|        XX| 9026.15| 9026.15|  8910.1|  8910.1|   8910.1|        2|     13.45|      75|        0|28-SEP-2023|NULL|\n",
            "|    FUTIDX|     NIFTY|28-Sep-2023|        0|        XX| 19742.5|19747.05|   19501|19522.95| 19523.55|   131488|1289193.05| 3301100| -1434950|28-SEP-2023|NULL|\n",
            "|    FUTIDX|     NIFTY|26-Oct-2023|        0|        XX| 19860.7| 19860.7| 19610.1| 19637.1|  19637.1|   184346| 1815900.5| 9695000|  2896150|28-SEP-2023|NULL|\n",
            "|    FUTIDX|     NIFTY|30-Nov-2023|        0|        XX|   19935| 19964.1|19737.35|19761.45| 19761.45|     7595|  75316.29|  759000|   112450|28-SEP-2023|NULL|\n",
            "|    FUTSTK|  AARTIIND|28-Sep-2023|        0|        XX|  496.45|   497.6|  482.55|   484.6|   485.65|     4928|  24128.88|  481000| -3133000|28-SEP-2023|NULL|\n",
            "|    FUTSTK|  AARTIIND|26-Oct-2023|        0|        XX|  500.45|  501.05|  486.05|   487.8|    487.8|     5989|  29530.26|14534000|  2986000|28-SEP-2023|NULL|\n",
            "|    FUTSTK|  AARTIIND|30-Nov-2023|        0|        XX|  503.45|  503.55|     490|  491.35|   491.35|      214|   1062.55|  459000|   115000|28-SEP-2023|NULL|\n",
            "+----------+----------+-----------+---------+----------+--------+--------+--------+--------+---------+---------+----------+--------+---------+-----------+----+\n",
            "only showing top 15 rows\n",
            "\n"
          ]
        }
      ]
    },
    {
      "cell_type": "code",
      "source": [
        "fodf = df.drop('_c15')\n",
        "fodf.show(5)"
      ],
      "metadata": {
        "colab": {
          "base_uri": "https://localhost:8080/"
        },
        "id": "JCDGFcjz85Ga",
        "outputId": "d282f30d-8bfb-4d3f-db85-6cae96f0b933"
      },
      "execution_count": 12,
      "outputs": [
        {
          "output_type": "stream",
          "name": "stdout",
          "text": [
            "+----------+---------+-----------+---------+----------+--------+--------+--------+--------+---------+---------+----------+--------+---------+-----------+\n",
            "|INSTRUMENT|   SYMBOL|  EXPIRY_DT|STRIKE_PR|OPTION_TYP|    OPEN|    HIGH|     LOW|   CLOSE|SETTLE_PR|CONTRACTS|VAL_INLAKH|OPEN_INT|CHG_IN_OI|  TIMESTAMP|\n",
            "+----------+---------+-----------+---------+----------+--------+--------+--------+--------+---------+---------+----------+--------+---------+-----------+\n",
            "|    FUTIDX|BANKNIFTY|28-Sep-2023|        0|        XX| 44509.4|   44745|44290.05|44310.85| 44300.95|   142353| 948844.98|  403500|  -686340|28-SEP-2023|\n",
            "|    FUTIDX|BANKNIFTY|26-Oct-2023|        0|        XX|44981.05|44992.95| 44568.8|44605.55| 44605.55|   179158|1202203.49| 2203755|   893325|28-SEP-2023|\n",
            "|    FUTIDX|BANKNIFTY|30-Nov-2023|        0|        XX|44834.25|   45300|44834.25| 44924.6|  44924.6|     5513|  37246.93|  180495|    22575|28-SEP-2023|\n",
            "|    FUTIDX| FINNIFTY|31-Oct-2023|        0|        XX|19947.95|   19975| 19820.1| 19847.4|  19847.4|     1065|   8470.58|   51360|     -640|28-SEP-2023|\n",
            "|    FUTIDX| FINNIFTY|28-Nov-2023|        0|        XX|20077.75|20077.75|   19920|19961.55| 19912.75|       10|     79.87|     800|      160|28-SEP-2023|\n",
            "+----------+---------+-----------+---------+----------+--------+--------+--------+--------+---------+---------+----------+--------+---------+-----------+\n",
            "only showing top 5 rows\n",
            "\n"
          ]
        }
      ]
    },
    {
      "cell_type": "code",
      "source": [
        "rows = fodf.count()\n",
        "print(f'Total Number of Rows: {rows}')"
      ],
      "metadata": {
        "colab": {
          "base_uri": "https://localhost:8080/"
        },
        "id": "RniY7s6X95r8",
        "outputId": "1735ee11-fa3a-443f-b327-77672ccfe5f8"
      },
      "execution_count": 13,
      "outputs": [
        {
          "output_type": "stream",
          "name": "stdout",
          "text": [
            "Total Number of Rows: 113384\n"
          ]
        }
      ]
    },
    {
      "cell_type": "code",
      "source": [
        "rdd = fodf.rdd\n",
        "num_partitions = rdd.getNumPartitions()\n",
        "print(f\"Number of partitions in the fodf DataFrame's RDD: {num_partitions}\")"
      ],
      "metadata": {
        "colab": {
          "base_uri": "https://localhost:8080/"
        },
        "id": "Z9k2Yy-M-Ycf",
        "outputId": "ee3250f1-4f6f-456c-a665-21ff49bbe717"
      },
      "execution_count": 14,
      "outputs": [
        {
          "output_type": "stream",
          "name": "stdout",
          "text": [
            "Number of partitions in the fodf DataFrame's RDD: 2\n"
          ]
        }
      ]
    },
    {
      "cell_type": "code",
      "source": [
        "fodf_nifty = fodf.filter(fodf['SYMBOL'] == 'NIFTY')\n",
        "fodf_nifty.show()"
      ],
      "metadata": {
        "colab": {
          "base_uri": "https://localhost:8080/"
        },
        "id": "XU2qD9e1_LaZ",
        "outputId": "2e2d18a2-8091-4233-e569-d6c410b2d4f6"
      },
      "execution_count": 15,
      "outputs": [
        {
          "output_type": "stream",
          "name": "stdout",
          "text": [
            "+----------+------+-----------+---------+----------+-------+--------+--------+--------+---------+---------+----------+--------+---------+-----------+\n",
            "|INSTRUMENT|SYMBOL|  EXPIRY_DT|STRIKE_PR|OPTION_TYP|   OPEN|    HIGH|     LOW|   CLOSE|SETTLE_PR|CONTRACTS|VAL_INLAKH|OPEN_INT|CHG_IN_OI|  TIMESTAMP|\n",
            "+----------+------+-----------+---------+----------+-------+--------+--------+--------+---------+---------+----------+--------+---------+-----------+\n",
            "|    FUTIDX| NIFTY|28-Sep-2023|        0|        XX|19742.5|19747.05|   19501|19522.95| 19523.55|   131488|1289193.05| 3301100| -1434950|28-SEP-2023|\n",
            "|    FUTIDX| NIFTY|26-Oct-2023|        0|        XX|19860.7| 19860.7| 19610.1| 19637.1|  19637.1|   184346| 1815900.5| 9695000|  2896150|28-SEP-2023|\n",
            "|    FUTIDX| NIFTY|30-Nov-2023|        0|        XX|  19935| 19964.1|19737.35|19761.45| 19761.45|     7595|  75316.29|  759000|   112450|28-SEP-2023|\n",
            "|    OPTIDX| NIFTY|28-Sep-2023|    12000|        CE|7691.25| 7691.25| 7656.05| 7656.05| 19523.55|        2|     19.67|     200|        0|28-SEP-2023|\n",
            "|    OPTIDX| NIFTY|28-Sep-2023|    13000|        CE|   6725|  6727.6|    6523|  6544.7| 19523.55|     1168|  11470.99|   49300|   -44800|28-SEP-2023|\n",
            "|    OPTIDX| NIFTY|28-Sep-2023|    14000|        CE|5733.05| 5733.05|  5534.1|  5534.1| 19523.55|       17|    166.85|    6400|     -200|28-SEP-2023|\n",
            "|    OPTIDX| NIFTY|28-Sep-2023|    15000|        CE|4693.25|    4721|    4515|  4531.8| 19523.55|      367|   3605.28|   33800|   -14500|28-SEP-2023|\n",
            "|    OPTIDX| NIFTY|28-Sep-2023|    16000|        CE|3719.25| 3725.75|  3516.9|  3532.3| 19523.55|     1886|  18528.41|  131900|   -35550|28-SEP-2023|\n",
            "|    OPTIDX| NIFTY|28-Sep-2023|    17000|        CE| 2730.9| 2730.95|  2509.4| 2531.35| 19523.55|     5451|  53405.39|  208100|  -114950|28-SEP-2023|\n",
            "|    OPTIDX| NIFTY|28-Sep-2023|    17450|        CE|   2190|    2190|    2080|    2080| 19523.55|        6|     58.65|     200|     -100|28-SEP-2023|\n",
            "|    OPTIDX| NIFTY|28-Sep-2023|    17500|        CE|   2225| 2225.75|    2023|  2028.6| 19523.55|     1206|  11820.95|  142150|    -1650|28-SEP-2023|\n",
            "|    OPTIDX| NIFTY|28-Sep-2023|    17550|        CE|      0|       0|       0|  1829.8| 19523.55|        0|         0|       0|        0|28-SEP-2023|\n",
            "|    OPTIDX| NIFTY|28-Sep-2023|    17600|        CE|2128.45|  2128.5|  1910.5|  1925.6| 19523.55|      125|   1228.66|    3550|    -2450|28-SEP-2023|\n",
            "|    OPTIDX| NIFTY|28-Sep-2023|    17650|        CE|      0|       0|       0|  1928.8| 19523.55|        0|         0|      50|        0|28-SEP-2023|\n",
            "|    OPTIDX| NIFTY|28-Sep-2023|    17700|        CE|   2017|    2017|    1815|    1818| 19523.55|       81|    795.18|   10650|    -1050|28-SEP-2023|\n",
            "|    OPTIDX| NIFTY|28-Sep-2023|    17750|        CE|      0|       0|       0|  1939.2| 19523.55|        0|         0|     250|        0|28-SEP-2023|\n",
            "|    OPTIDX| NIFTY|28-Sep-2023|    17800|        CE| 1920.6|  1920.6|  1717.9| 1724.95| 19523.55|      106|   1040.22|    2800|    -2850|28-SEP-2023|\n",
            "|    OPTIDX| NIFTY|28-Sep-2023|    17850|        CE|   1695|    1695|    1695|    1695| 19523.55|        2|     19.54|     200|      -50|28-SEP-2023|\n",
            "|    OPTIDX| NIFTY|28-Sep-2023|    17900|        CE|   1780|    1815|  1617.6|  1617.6| 19523.55|       59|    578.87|    1700|    -1850|28-SEP-2023|\n",
            "|    OPTIDX| NIFTY|28-Sep-2023|    17950|        CE| 1735.7|  1735.7| 1562.15| 1562.15| 19523.55|        2|     19.59|      50|        0|28-SEP-2023|\n",
            "+----------+------+-----------+---------+----------+-------+--------+--------+--------+---------+---------+----------+--------+---------+-----------+\n",
            "only showing top 20 rows\n",
            "\n"
          ]
        }
      ]
    },
    {
      "cell_type": "code",
      "source": [
        "rows = fodf_nifty.count()\n",
        "print(f'Total Number of Rows: {rows}')"
      ],
      "metadata": {
        "id": "ZKVgCO3KAvmE",
        "colab": {
          "base_uri": "https://localhost:8080/"
        },
        "outputId": "4dcc91c3-bde9-4e27-e709-8398f48d21af"
      },
      "execution_count": 16,
      "outputs": [
        {
          "output_type": "stream",
          "name": "stdout",
          "text": [
            "Total Number of Rows: 2712\n"
          ]
        }
      ]
    },
    {
      "cell_type": "code",
      "source": [],
      "metadata": {
        "id": "PSourWHpBEWU"
      },
      "execution_count": 16,
      "outputs": []
    },
    {
      "cell_type": "code",
      "source": [
        "nifty_df = spark.read.csv('/content/nse2023.csv',header=True)"
      ],
      "metadata": {
        "id": "PNvgBI1QhJmi"
      },
      "execution_count": 18,
      "outputs": []
    },
    {
      "cell_type": "code",
      "source": [
        "nifty_df.show(10)"
      ],
      "metadata": {
        "id": "-71Vq1K0huSZ",
        "colab": {
          "base_uri": "https://localhost:8080/"
        },
        "outputId": "ae56efa3-0afd-484f-f1fd-8423f7fbe02e"
      },
      "execution_count": 19,
      "outputs": [
        {
          "output_type": "stream",
          "name": "stdout",
          "text": [
            "+-----------+--------+--------+--------+--------+\n",
            "|       Date|    Open|    High|     Low|   Close|\n",
            "+-----------+--------+--------+--------+--------+\n",
            "|29-Sep-2023|19581.20|19726.25|19551.05|19638.30|\n",
            "|28-Sep-2023|19761.80|19766.65|19492.10|19523.55|\n",
            "|27-Sep-2023|19637.05|19730.70|19554.00|19716.45|\n",
            "|26-Sep-2023| 19682.8|19699.35|19637.45|19664.70|\n",
            "|25-Sep-2023|19678.20|19734.15|19601.55|19674.55|\n",
            "|22-Sep-2023|19744.85|19798.65|19657.50|19674.25|\n",
            "|21-Sep-2023|19840.55|19848.75|19709.95|19742.35|\n",
            "|20-Sep-2023|19980.75|20050.65|19878.85|19901.40|\n",
            "|18-Sep-2023|20155.95|20195.35|20115.70|20133.30|\n",
            "|15-Sep-2023|20156.45|20222.45|20129.70|20192.35|\n",
            "+-----------+--------+--------+--------+--------+\n",
            "only showing top 10 rows\n",
            "\n"
          ]
        }
      ]
    },
    {
      "cell_type": "code",
      "source": [
        "rows = nifty_df.count()\n",
        "print(f'Total Number of Rows: {rows}')"
      ],
      "metadata": {
        "id": "WxA14Pi7h7lA",
        "colab": {
          "base_uri": "https://localhost:8080/"
        },
        "outputId": "d6ad060a-602f-4135-f2da-6d25dcf7c482"
      },
      "execution_count": 20,
      "outputs": [
        {
          "output_type": "stream",
          "name": "stdout",
          "text": [
            "Total Number of Rows: 185\n"
          ]
        }
      ]
    },
    {
      "cell_type": "code",
      "source": [
        "nifty_close_df = nifty_df.selectExpr('Date','Close as nclose')\n",
        "nifty_close_df.show(5)"
      ],
      "metadata": {
        "id": "2tw-suHniD7b",
        "colab": {
          "base_uri": "https://localhost:8080/"
        },
        "outputId": "86cfa00d-31bd-479a-81c5-fba34187bec8"
      },
      "execution_count": 21,
      "outputs": [
        {
          "output_type": "stream",
          "name": "stdout",
          "text": [
            "+-----------+--------+\n",
            "|       Date|  nclose|\n",
            "+-----------+--------+\n",
            "|29-Sep-2023|19638.30|\n",
            "|28-Sep-2023|19523.55|\n",
            "|27-Sep-2023|19716.45|\n",
            "|26-Sep-2023|19664.70|\n",
            "|25-Sep-2023|19674.55|\n",
            "+-----------+--------+\n",
            "only showing top 5 rows\n",
            "\n"
          ]
        }
      ]
    },
    {
      "cell_type": "code",
      "source": [
        "# fodf_nifty = fodf_nifty.withColumnRenamed(\"EXPIRY_DT\", \"Date\")\n",
        "# fodf_nifty.show()"
      ],
      "metadata": {
        "id": "PEh3B5tHmBLy"
      },
      "execution_count": 22,
      "outputs": []
    },
    {
      "cell_type": "code",
      "source": [
        "join_df = fodf_nifty.join(nifty_close_df, (fodf_nifty['EXPIRY_DT'] == nifty_close_df['Date']), 'inner')\n",
        "join_df.show(185)"
      ],
      "metadata": {
        "id": "iJ-sAuaVjC7T",
        "colab": {
          "base_uri": "https://localhost:8080/"
        },
        "outputId": "f81f7de8-c75d-47b7-a24b-349a9fa3f765"
      },
      "execution_count": 23,
      "outputs": [
        {
          "output_type": "stream",
          "name": "stdout",
          "text": [
            "+----------+------+-----------+---------+----------+-------+--------+-------+--------+---------+---------+------------+--------+---------+-----------+-----------+--------+\n",
            "|INSTRUMENT|SYMBOL|  EXPIRY_DT|STRIKE_PR|OPTION_TYP|   OPEN|    HIGH|    LOW|   CLOSE|SETTLE_PR|CONTRACTS|  VAL_INLAKH|OPEN_INT|CHG_IN_OI|  TIMESTAMP|       Date|  nclose|\n",
            "+----------+------+-----------+---------+----------+-------+--------+-------+--------+---------+---------+------------+--------+---------+-----------+-----------+--------+\n",
            "|    FUTIDX| NIFTY|28-Sep-2023|        0|        XX|19742.5|19747.05|  19501|19522.95| 19523.55|   131488|  1289193.05| 3301100| -1434950|28-SEP-2023|28-Sep-2023|19523.55|\n",
            "|    OPTIDX| NIFTY|28-Sep-2023|    12000|        CE|7691.25| 7691.25|7656.05| 7656.05| 19523.55|        2|       19.67|     200|        0|28-SEP-2023|28-Sep-2023|19523.55|\n",
            "|    OPTIDX| NIFTY|28-Sep-2023|    13000|        CE|   6725|  6727.6|   6523|  6544.7| 19523.55|     1168|    11470.99|   49300|   -44800|28-SEP-2023|28-Sep-2023|19523.55|\n",
            "|    OPTIDX| NIFTY|28-Sep-2023|    14000|        CE|5733.05| 5733.05| 5534.1|  5534.1| 19523.55|       17|      166.85|    6400|     -200|28-SEP-2023|28-Sep-2023|19523.55|\n",
            "|    OPTIDX| NIFTY|28-Sep-2023|    15000|        CE|4693.25|    4721|   4515|  4531.8| 19523.55|      367|     3605.28|   33800|   -14500|28-SEP-2023|28-Sep-2023|19523.55|\n",
            "|    OPTIDX| NIFTY|28-Sep-2023|    16000|        CE|3719.25| 3725.75| 3516.9|  3532.3| 19523.55|     1886|    18528.41|  131900|   -35550|28-SEP-2023|28-Sep-2023|19523.55|\n",
            "|    OPTIDX| NIFTY|28-Sep-2023|    17000|        CE| 2730.9| 2730.95| 2509.4| 2531.35| 19523.55|     5451|    53405.39|  208100|  -114950|28-SEP-2023|28-Sep-2023|19523.55|\n",
            "|    OPTIDX| NIFTY|28-Sep-2023|    17450|        CE|   2190|    2190|   2080|    2080| 19523.55|        6|       58.65|     200|     -100|28-SEP-2023|28-Sep-2023|19523.55|\n",
            "|    OPTIDX| NIFTY|28-Sep-2023|    17500|        CE|   2225| 2225.75|   2023|  2028.6| 19523.55|     1206|    11820.95|  142150|    -1650|28-SEP-2023|28-Sep-2023|19523.55|\n",
            "|    OPTIDX| NIFTY|28-Sep-2023|    17550|        CE|      0|       0|      0|  1829.8| 19523.55|        0|           0|       0|        0|28-SEP-2023|28-Sep-2023|19523.55|\n",
            "|    OPTIDX| NIFTY|28-Sep-2023|    17600|        CE|2128.45|  2128.5| 1910.5|  1925.6| 19523.55|      125|     1228.66|    3550|    -2450|28-SEP-2023|28-Sep-2023|19523.55|\n",
            "|    OPTIDX| NIFTY|28-Sep-2023|    17650|        CE|      0|       0|      0|  1928.8| 19523.55|        0|           0|      50|        0|28-SEP-2023|28-Sep-2023|19523.55|\n",
            "|    OPTIDX| NIFTY|28-Sep-2023|    17700|        CE|   2017|    2017|   1815|    1818| 19523.55|       81|      795.18|   10650|    -1050|28-SEP-2023|28-Sep-2023|19523.55|\n",
            "|    OPTIDX| NIFTY|28-Sep-2023|    17750|        CE|      0|       0|      0|  1939.2| 19523.55|        0|           0|     250|        0|28-SEP-2023|28-Sep-2023|19523.55|\n",
            "|    OPTIDX| NIFTY|28-Sep-2023|    17800|        CE| 1920.6|  1920.6| 1717.9| 1724.95| 19523.55|      106|     1040.22|    2800|    -2850|28-SEP-2023|28-Sep-2023|19523.55|\n",
            "|    OPTIDX| NIFTY|28-Sep-2023|    17850|        CE|   1695|    1695|   1695|    1695| 19523.55|        2|       19.54|     200|      -50|28-SEP-2023|28-Sep-2023|19523.55|\n",
            "|    OPTIDX| NIFTY|28-Sep-2023|    17900|        CE|   1780|    1815| 1617.6|  1617.6| 19523.55|       59|      578.87|    1700|    -1850|28-SEP-2023|28-Sep-2023|19523.55|\n",
            "|    OPTIDX| NIFTY|28-Sep-2023|    17950|        CE| 1735.7|  1735.7|1562.15| 1562.15| 19523.55|        2|       19.59|      50|        0|28-SEP-2023|28-Sep-2023|19523.55|\n",
            "|    OPTIDX| NIFTY|28-Sep-2023|    18000|        CE| 1725.2| 1728.45| 1508.6|  1526.8| 19523.55|     9631|    94633.05|  364700|  -121900|28-SEP-2023|28-Sep-2023|19523.55|\n",
            "|    OPTIDX| NIFTY|28-Sep-2023|    18050|        CE|   1503|    1503|   1503|    1503| 19523.55|        1|        9.77|      50|        0|28-SEP-2023|28-Sep-2023|19523.55|\n",
            "|    OPTIDX| NIFTY|28-Sep-2023|    18100|        CE|   1622|    1622|   1422| 1437.45| 19523.55|      134|      1314.7|    8000|    -3250|28-SEP-2023|28-Sep-2023|19523.55|\n",
            "|    OPTIDX| NIFTY|28-Sep-2023|    18150|        CE|1394.35| 1394.35|1394.35| 1394.35| 19523.55|        1|        9.77|     100|        0|28-SEP-2023|28-Sep-2023|19523.55|\n",
            "|    OPTIDX| NIFTY|28-Sep-2023|    18200|        CE| 1524.6|    1525| 1314.3| 1329.65| 19523.55|      254|     2491.52|    6000|    -7250|28-SEP-2023|28-Sep-2023|19523.55|\n",
            "|    OPTIDX| NIFTY|28-Sep-2023|    18250|        CE|      0|       0|      0|  1408.9| 19523.55|        0|           0|     100|        0|28-SEP-2023|28-Sep-2023|19523.55|\n",
            "|    OPTIDX| NIFTY|28-Sep-2023|    18300|        CE| 1425.4| 1425.55|   1217|    1227| 19523.55|      212|     2082.83|    8200|    -2900|28-SEP-2023|28-Sep-2023|19523.55|\n",
            "|    OPTIDX| NIFTY|28-Sep-2023|    18350|        CE|   1280|    1280|1174.75| 1180.55| 19523.55|       10|       97.74|     550|     -250|28-SEP-2023|28-Sep-2023|19523.55|\n",
            "|    OPTIDX| NIFTY|28-Sep-2023|    18400|        CE|   1321|    1321|1114.15| 1129.65| 19523.55|      161|     1579.29|    2800|    -4350|28-SEP-2023|28-Sep-2023|19523.55|\n",
            "|    OPTIDX| NIFTY|28-Sep-2023|    18450|        CE|   1115|    1115|1058.85| 1074.45| 19523.55|        8|       78.12|     200|       50|28-SEP-2023|28-Sep-2023|19523.55|\n",
            "|    OPTIDX| NIFTY|28-Sep-2023|    18500|        CE|1220.05|  1227.5|   1010|  1021.4| 19523.55|     1866|    18314.92|   77000|   -47200|28-SEP-2023|28-Sep-2023|19523.55|\n",
            "|    OPTIDX| NIFTY|28-Sep-2023|    18550|        CE|1135.45| 1135.45|  967.4|  978.65| 19523.55|       12|      117.33|     550|      200|28-SEP-2023|28-Sep-2023|19523.55|\n",
            "|    OPTIDX| NIFTY|28-Sep-2023|    18600|        CE| 1121.9|  1128.4|  915.4|  926.95| 19523.55|      226|      2217.9|    8700|    -3100|28-SEP-2023|28-Sep-2023|19523.55|\n",
            "|    OPTIDX| NIFTY|28-Sep-2023|    18650|        CE|1085.55| 1085.55| 866.95|   879.8| 19523.55|       17|      166.67|     750|      100|28-SEP-2023|28-Sep-2023|19523.55|\n",
            "|    OPTIDX| NIFTY|28-Sep-2023|    18700|        CE|1019.95|  1029.5|    814|  824.55| 19523.55|      354|     3470.92|    9950|    -9400|28-SEP-2023|28-Sep-2023|19523.55|\n",
            "|    OPTIDX| NIFTY|28-Sep-2023|    18750|        CE|    915|     940| 755.45|   770.8| 19523.55|       82|      802.28|    5300|    -2150|28-SEP-2023|28-Sep-2023|19523.55|\n",
            "|    OPTIDX| NIFTY|28-Sep-2023|    18800|        CE|    922|  926.45| 708.15|   725.8| 19523.55|      513|     5033.93|   18250|    -9150|28-SEP-2023|28-Sep-2023|19523.55|\n",
            "|    OPTIDX| NIFTY|28-Sep-2023|    18850|        CE|  870.7|   870.7|    662|  673.95| 19523.55|       61|      598.82|    3250|      400|28-SEP-2023|28-Sep-2023|19523.55|\n",
            "|    OPTIDX| NIFTY|28-Sep-2023|    18900|        CE|    815|  822.05|  613.9|  629.65| 19523.55|      704|     6889.82|   54100|    -2200|28-SEP-2023|28-Sep-2023|19523.55|\n",
            "|    OPTIDX| NIFTY|28-Sep-2023|    18950|        CE|  771.5|  779.75|  554.9|   572.5| 19523.55|      102|      999.79|    3750|     -600|28-SEP-2023|28-Sep-2023|19523.55|\n",
            "|    OPTIDX| NIFTY|28-Sep-2023|    19000|        CE|  730.2|  730.75| 504.25|  521.15| 19523.55|     8893|    87122.34|  949250|   -96500|28-SEP-2023|28-Sep-2023|19523.55|\n",
            "|    OPTIDX| NIFTY|28-Sep-2023|    19050|        CE|  643.1|   643.1| 457.05|   473.8| 19523.55|      204|     1996.75|    4250|    -2150|28-SEP-2023|28-Sep-2023|19523.55|\n",
            "|    OPTIDX| NIFTY|28-Sep-2023|    19100|        CE|  621.1|   626.5| 405.55|  425.35| 19523.55|     1390|    13619.86|   74150|   -11850|28-SEP-2023|28-Sep-2023|19523.55|\n",
            "|    OPTIDX| NIFTY|28-Sep-2023|    19150|        CE| 572.65|  578.65|  353.9|   376.4| 19523.55|      635|      6223.6|   15050|     2200|28-SEP-2023|28-Sep-2023|19523.55|\n",
            "|    OPTIDX| NIFTY|28-Sep-2023|    19200|        CE| 522.95|     530| 303.35|   323.8| 19523.55|    17697|   173937.19|  126500|   -17250|28-SEP-2023|28-Sep-2023|19523.55|\n",
            "|    OPTIDX| NIFTY|28-Sep-2023|    19250|        CE| 474.35|   479.2|  253.9|   273.5| 19523.55|     5536|    54132.53|  101100|    16100|28-SEP-2023|28-Sep-2023|19523.55|\n",
            "|    OPTIDX| NIFTY|28-Sep-2023|    19300|        CE|  425.7|     431| 203.85|  223.35| 19523.55|    27542|   269461.82|  698100|   -45900|28-SEP-2023|28-Sep-2023|19523.55|\n",
            "|    OPTIDX| NIFTY|28-Sep-2023|    19350|        CE| 373.15|   382.8|  153.6|  172.45| 19523.55|    30240|   295703.57|  115000|    38950|28-SEP-2023|28-Sep-2023|19523.55|\n",
            "|    OPTIDX| NIFTY|28-Sep-2023|    19400|        CE|    320|  332.65| 103.55|   122.6| 19523.55|   244841|  2394361.32|  801000|    91550|28-SEP-2023|28-Sep-2023|19523.55|\n",
            "|    OPTIDX| NIFTY|28-Sep-2023|    19450|        CE| 278.25|   283.8|   53.8|   71.65| 19523.55|   520509|  5087493.33|  378950|   208150|28-SEP-2023|28-Sep-2023|19523.55|\n",
            "|    OPTIDX| NIFTY|28-Sep-2023|    19500|        CE|  222.5|   234.6|    6.2|   22.15| 19523.55|  5239493| 51208796.55| 4047900|  1845050|28-SEP-2023|28-Sep-2023|19523.55|\n",
            "|    OPTIDX| NIFTY|28-Sep-2023|    19550|        CE|    178|  219.95|   0.05|     0.8| 19523.55| 11698798|114464924.45|13478450| 12875550|28-SEP-2023|28-Sep-2023|19523.55|\n",
            "|    OPTIDX| NIFTY|28-Sep-2023|    19600|        CE|  132.8|   139.4|   0.05|     0.3| 19523.55| 16264288|159551189.22|12092650|  9061000|28-SEP-2023|28-Sep-2023|19523.55|\n",
            "|    OPTIDX| NIFTY|28-Sep-2023|    19650|        CE|     90|    97.1|   0.05|    0.25| 19523.55| 12256327|120533060.77| 7856050|  5038950|28-SEP-2023|28-Sep-2023|19523.55|\n",
            "|    OPTIDX| NIFTY|28-Sep-2023|    19700|        CE|     68|      68|   0.05|    0.25| 19523.55| 16072359|158447873.41|10827900|   248600|28-SEP-2023|28-Sep-2023|19523.55|\n",
            "|    OPTIDX| NIFTY|28-Sep-2023|    19750|        CE|     32|      35|   0.05|     0.2| 19523.55| 11288695|111540806.56| 5472500| -3791400|28-SEP-2023|28-Sep-2023|19523.55|\n",
            "|    OPTIDX| NIFTY|28-Sep-2023|    19800|        CE|   15.3|    19.7|   0.05|     0.2| 19523.55| 10694888|105913582.83| 8103000| -6866150|28-SEP-2023|28-Sep-2023|19523.55|\n",
            "|    OPTIDX| NIFTY|28-Sep-2023|    19850|        CE|    7.5|     7.8|   0.05|     0.2| 19523.55|  5904890| 58616536.34| 3225450| -4720350|28-SEP-2023|28-Sep-2023|19523.55|\n",
            "|    OPTIDX| NIFTY|28-Sep-2023|    19900|        CE|    2.5|    3.75|   0.05|    0.15| 19523.55|  5621145|  55936226.8| 5742550| -5570050|28-SEP-2023|28-Sep-2023|19523.55|\n",
            "|    OPTIDX| NIFTY|28-Sep-2023|    19950|        CE|    1.4|     2.3|   0.05|     0.1| 19523.55|  3043325| 30359584.48| 2731400| -2098350|28-SEP-2023|28-Sep-2023|19523.55|\n",
            "|    OPTIDX| NIFTY|28-Sep-2023|    20000|        CE|    0.9|     2.1|   0.05|     0.1| 19523.55|  4687335|  46876425.6| 9366100| -1731350|28-SEP-2023|28-Sep-2023|19523.55|\n",
            "|    OPTIDX| NIFTY|28-Sep-2023|    20050|        CE|   0.65|     2.1|   0.05|     0.1| 19523.55|  1811008| 18156487.61| 2147800|  -447600|28-SEP-2023|28-Sep-2023|19523.55|\n",
            "|    OPTIDX| NIFTY|28-Sep-2023|    20100|        CE|   0.75|       2|   0.05|     0.1| 19523.55|  2439140| 24514802.43| 5882900|  1236750|28-SEP-2023|28-Sep-2023|19523.55|\n",
            "|    OPTIDX| NIFTY|28-Sep-2023|    20150|        CE|    0.7|    1.95|   0.05|     0.1| 19523.55|   897197|  9039753.09| 2123050|  -475750|28-SEP-2023|28-Sep-2023|19523.55|\n",
            "|    OPTIDX| NIFTY|28-Sep-2023|    20200|        CE|    0.6|    1.85|   0.05|     0.1| 19523.55|  1964034| 19837795.07| 6768400|  1247650|28-SEP-2023|28-Sep-2023|19523.55|\n",
            "|    OPTIDX| NIFTY|28-Sep-2023|    20250|        CE|    0.6|    1.75|   0.05|     0.1| 19523.55|   619086|  6268549.47| 1733850|    93650|28-SEP-2023|28-Sep-2023|19523.55|\n",
            "|    OPTIDX| NIFTY|28-Sep-2023|    20300|        CE|    0.5|     1.6|   0.05|     0.1| 19523.55|  1312360| 13321050.76| 3473200| -1177300|28-SEP-2023|28-Sep-2023|19523.55|\n",
            "|    OPTIDX| NIFTY|28-Sep-2023|    20350|        CE|   0.45|    1.45|   0.05|    0.05| 19523.55|   558290|  5680846.91| 1274050|     1050|28-SEP-2023|28-Sep-2023|19523.55|\n",
            "|    OPTIDX| NIFTY|28-Sep-2023|    20400|        CE|    0.5|     1.4|   0.05|    0.05| 19523.55|   744747|  7596739.14| 2070500|  -257450|28-SEP-2023|28-Sep-2023|19523.55|\n",
            "|    OPTIDX| NIFTY|28-Sep-2023|    20450|        CE|   0.45|    1.25|   0.05|     0.1| 19523.55|   183866|  1880104.96|  427300|    -6150|28-SEP-2023|28-Sep-2023|19523.55|\n",
            "|    OPTIDX| NIFTY|28-Sep-2023|    20500|        CE|    0.4|     1.1|   0.05|     0.1| 19523.55|   956222|  9801616.85| 3460800|  -894450|28-SEP-2023|28-Sep-2023|19523.55|\n",
            "|    OPTIDX| NIFTY|28-Sep-2023|    20550|        CE|    0.6|       1|   0.05|    0.05| 19523.55|   341797|  3512075.76|  663600| -1810350|28-SEP-2023|28-Sep-2023|19523.55|\n",
            "|    OPTIDX| NIFTY|28-Sep-2023|    20600|        CE|    0.4|    0.95|   0.05|    0.05| 19523.55|   618740|  6373191.92| 2531850|    34950|28-SEP-2023|28-Sep-2023|19523.55|\n",
            "|    OPTIDX| NIFTY|28-Sep-2023|    20650|        CE|   0.35|     0.9|   0.05|    0.05| 19523.55|   123089|  1270927.22|  413950|  -147450|28-SEP-2023|28-Sep-2023|19523.55|\n",
            "|    OPTIDX| NIFTY|28-Sep-2023|    20700|        CE|   0.45|    0.85|   0.05|    0.05| 19523.55|   469630|  4860789.66| 1931350|   554800|28-SEP-2023|28-Sep-2023|19523.55|\n",
            "|    OPTIDX| NIFTY|28-Sep-2023|    20750|        CE|   0.35|    0.85|   0.05|    0.05| 19523.55|    57309|   594595.09|  253700|   -78500|28-SEP-2023|28-Sep-2023|19523.55|\n",
            "|    OPTIDX| NIFTY|28-Sep-2023|    20800|        CE|    0.3|     0.9|   0.05|     0.1| 19523.55|   118645|  1233937.56|  506450|  -792400|28-SEP-2023|28-Sep-2023|19523.55|\n",
            "|    OPTIDX| NIFTY|28-Sep-2023|    20850|        CE|    0.3|     0.9|   0.05|     0.1| 19523.55|    39411|   410869.16|   42800|  -103000|28-SEP-2023|28-Sep-2023|19523.55|\n",
            "|    OPTIDX| NIFTY|28-Sep-2023|    20900|        CE|   0.35|     0.8|   0.05|     0.1| 19523.55|    73818|   771415.32|  278850|  -152200|28-SEP-2023|28-Sep-2023|19523.55|\n",
            "|    OPTIDX| NIFTY|28-Sep-2023|    20950|        CE|    0.4|    0.75|   0.05|    0.15| 19523.55|    26721|   279908.49|   51450|   -27950|28-SEP-2023|28-Sep-2023|19523.55|\n",
            "|    OPTIDX| NIFTY|28-Sep-2023|    21000|        CE|    0.4|    0.75|   0.05|     0.1| 19523.55|   265088|  2783484.17| 1974450|  -727100|28-SEP-2023|28-Sep-2023|19523.55|\n",
            "|    OPTIDX| NIFTY|28-Sep-2023|    21050|        CE|   0.35|     0.7|   0.05|    0.15| 19523.55|    23834|   250857.75|   36800|   -58700|28-SEP-2023|28-Sep-2023|19523.55|\n",
            "|    OPTIDX| NIFTY|28-Sep-2023|    21100|        CE|    0.3|    0.75|   0.05|     0.1| 19523.55|    16009|   168898.13|  110900|   -72800|28-SEP-2023|28-Sep-2023|19523.55|\n",
            "|    OPTIDX| NIFTY|28-Sep-2023|    21150|        CE|   0.35|    0.65|   0.05|     0.1| 19523.55|     6074|     64233.6|   37000|   -11900|28-SEP-2023|28-Sep-2023|19523.55|\n",
            "|    OPTIDX| NIFTY|28-Sep-2023|    21200|        CE|    0.5|    0.65|   0.05|     0.1| 19523.55|    20496|   217261.23|   77950|  -162000|28-SEP-2023|28-Sep-2023|19523.55|\n",
            "|    OPTIDX| NIFTY|28-Sep-2023|    21250|        CE|   0.45|     1.1|   0.05|     0.1| 19523.55|     5599|    59490.29|   27550|   -23050|28-SEP-2023|28-Sep-2023|19523.55|\n",
            "|    OPTIDX| NIFTY|28-Sep-2023|    21300|        CE|   0.85|    0.85|   0.05|    0.15| 19523.55|    19519|   207881.04|  135650|  -165150|28-SEP-2023|28-Sep-2023|19523.55|\n",
            "|    OPTIDX| NIFTY|28-Sep-2023|    21350|        CE|    0.5|    0.85|   0.05|    0.15| 19523.55|    21516|   229687.41|  159950|  -113600|28-SEP-2023|28-Sep-2023|19523.55|\n",
            "|    OPTIDX| NIFTY|28-Sep-2023|    21400|        CE|    0.4|     0.7|   0.05|    0.15| 19523.55|    30832|   329907.59|  572400|   -84700|28-SEP-2023|28-Sep-2023|19523.55|\n",
            "|    OPTIDX| NIFTY|28-Sep-2023|    21450|        CE|    0.3|    0.75|   0.05|    0.15| 19523.55|    17056|   182928.75|  208250|   -28350|28-SEP-2023|28-Sep-2023|19523.55|\n",
            "|    OPTIDX| NIFTY|28-Sep-2023|    21500|        CE|    0.4|    0.75|   0.05|    0.15| 19523.55|   258156|  2775218.04| 1865850| -1566900|28-SEP-2023|28-Sep-2023|19523.55|\n",
            "|    OPTIDX| NIFTY|28-Sep-2023|    21550|        CE|   0.35|    0.85|   0.05|    0.15| 19523.55|    11422|   123074.26|  152000|   -22300|28-SEP-2023|28-Sep-2023|19523.55|\n",
            "|    OPTIDX| NIFTY|28-Sep-2023|    21600|        CE|   0.45|     0.7|   0.05|    0.15| 19523.55|    27005|   291658.38|  627900|  -194250|28-SEP-2023|28-Sep-2023|19523.55|\n",
            "|    OPTIDX| NIFTY|28-Sep-2023|    21650|        CE|   0.45|     0.7|   0.05|     0.1| 19523.55|    11381|   123201.56|  259500|   -50900|28-SEP-2023|28-Sep-2023|19523.55|\n",
            "|    OPTIDX| NIFTY|28-Sep-2023|    21700|        CE|    0.5|     0.7|   0.05|    0.15| 19523.55|    35183|   381742.23|  990550|  -159600|28-SEP-2023|28-Sep-2023|19523.55|\n",
            "|    OPTIDX| NIFTY|28-Sep-2023|    22000|        CE|    0.4|    0.55|   0.05|     0.1| 19523.55|    54185|   596044.02|  683250|  -296650|28-SEP-2023|28-Sep-2023|19523.55|\n",
            "|    OPTIDX| NIFTY|28-Sep-2023|    23000|        CE|    0.3|    0.55|   0.05|    0.15| 19523.55|    34404|    395651.3| 1292100|  -114150|28-SEP-2023|28-Sep-2023|19523.55|\n",
            "|    OPTIDX| NIFTY|28-Sep-2023|    24000|        CE|   0.25|    0.45|   0.05|     0.1| 19523.55|    80466|   965603.11| 1482950|  -374900|28-SEP-2023|28-Sep-2023|19523.55|\n",
            "|    OPTIDX| NIFTY|28-Sep-2023|    12000|        PE|    0.2|    0.25|   0.05|     0.1| 19523.55|    55451|   332711.02|   66250|  -293900|28-SEP-2023|28-Sep-2023|19523.55|\n",
            "|    OPTIDX| NIFTY|28-Sep-2023|    13000|        PE|    0.2|    0.45|   0.05|     0.1| 19523.55|    12782|    83084.36|  283650|    53300|28-SEP-2023|28-Sep-2023|19523.55|\n",
            "|    OPTIDX| NIFTY|28-Sep-2023|    14000|        PE|    0.2|    0.35|   0.05|     0.1| 19523.55|     6299|     44093.7|   41050|  -110550|28-SEP-2023|28-Sep-2023|19523.55|\n",
            "|    OPTIDX| NIFTY|28-Sep-2023|    15000|        PE|    0.3|     0.4|   0.05|     0.1| 19523.55|     2063|    15472.74|   92500|    -4300|28-SEP-2023|28-Sep-2023|19523.55|\n",
            "|    OPTIDX| NIFTY|28-Sep-2023|    16000|        PE|   0.35|     3.4|   0.05|     0.1| 19523.55|    22103|   176829.19|  562550|   -15850|28-SEP-2023|28-Sep-2023|19523.55|\n",
            "|    OPTIDX| NIFTY|28-Sep-2023|    17000|        PE|    0.2|     0.9|   0.05|     0.1| 19523.55|   166461|  1414940.27| 1232800| -1675450|28-SEP-2023|28-Sep-2023|19523.55|\n",
            "|    OPTIDX| NIFTY|28-Sep-2023|    17450|        PE|    0.3|     0.5|   0.05|    0.15| 19523.55|    26683|   232812.71|   27100|  -173900|28-SEP-2023|28-Sep-2023|19523.55|\n",
            "|    OPTIDX| NIFTY|28-Sep-2023|    17500|        PE|   0.45|    0.55|   0.05|    0.15| 19523.55|    58777|    514306.2|  557950|  -582200|28-SEP-2023|28-Sep-2023|19523.55|\n",
            "|    OPTIDX| NIFTY|28-Sep-2023|    17550|        PE|    0.5|     0.5|   0.05|    0.15| 19523.55|     4374|    38382.38|   12900|   -21200|28-SEP-2023|28-Sep-2023|19523.55|\n",
            "|    OPTIDX| NIFTY|28-Sep-2023|    17600|        PE|    0.6|     0.6|   0.05|    0.15| 19523.55|    48098|   423267.03|   30300|  -513650|28-SEP-2023|28-Sep-2023|19523.55|\n",
            "|    OPTIDX| NIFTY|28-Sep-2023|    17650|        PE|    0.4|    0.45|   0.05|     0.1| 19523.55|     5193|    45828.81|   37450|      500|28-SEP-2023|28-Sep-2023|19523.55|\n",
            "|    OPTIDX| NIFTY|28-Sep-2023|    17700|        PE|   0.25|     0.6|   0.05|    0.05| 19523.55|    47081|   416670.85|  273650|  -405400|28-SEP-2023|28-Sep-2023|19523.55|\n",
            "|    OPTIDX| NIFTY|28-Sep-2023|    17750|        PE|   0.55|     0.6|   0.05|     0.1| 19523.55|     5529|    49070.53|   15850|   -27050|28-SEP-2023|28-Sep-2023|19523.55|\n",
            "|    OPTIDX| NIFTY|28-Sep-2023|    17800|        PE|   0.55|     0.6|   0.05|     0.1| 19523.55|    37201|   331092.81|  149550|  -397350|28-SEP-2023|28-Sep-2023|19523.55|\n",
            "|    OPTIDX| NIFTY|28-Sep-2023|    17850|        PE|   0.35|    0.45|   0.05|     0.1| 19523.55|    10906|    97337.62|    8950|   -89300|28-SEP-2023|28-Sep-2023|19523.55|\n",
            "|    OPTIDX| NIFTY|28-Sep-2023|    17900|        PE|    0.6|     0.6|   0.05|     0.1| 19523.55|    28410|   254273.23|   38950|  -492050|28-SEP-2023|28-Sep-2023|19523.55|\n",
            "|    OPTIDX| NIFTY|28-Sep-2023|    17950|        PE|    0.3|     0.8|   0.05|     0.1| 19523.55|     3572|    32059.18|   10100|   -27400|28-SEP-2023|28-Sep-2023|19523.55|\n",
            "|    OPTIDX| NIFTY|28-Sep-2023|    18000|        PE|    0.4|     0.5|   0.05|    0.15| 19523.55|   149869|   1348844.7| 1850950| -1352700|28-SEP-2023|28-Sep-2023|19523.55|\n",
            "|    OPTIDX| NIFTY|28-Sep-2023|    18050|        PE|   0.35|     0.5|   0.05|     0.1| 19523.55|     9669|    87264.17|   12850|   -97750|28-SEP-2023|28-Sep-2023|19523.55|\n",
            "|    OPTIDX| NIFTY|28-Sep-2023|    18100|        PE|    0.5|     0.6|   0.05|     0.1| 19523.55|    13764|   124566.08|  336400|   -75500|28-SEP-2023|28-Sep-2023|19523.55|\n",
            "|    OPTIDX| NIFTY|28-Sep-2023|    18150|        PE|    0.3|    0.45|   0.05|     0.1| 19523.55|     7958|    72219.96|   50150|   -34350|28-SEP-2023|28-Sep-2023|19523.55|\n",
            "|    OPTIDX| NIFTY|28-Sep-2023|    18200|        PE|   0.45|     0.6|   0.05|     0.1| 19523.55|    19773|   179937.26|  141400|  -207650|28-SEP-2023|28-Sep-2023|19523.55|\n",
            "|    OPTIDX| NIFTY|28-Sep-2023|    18250|        PE|   0.45|    0.55|   0.05|     0.1| 19523.55|    16253|   148311.34|   41150|  -118600|28-SEP-2023|28-Sep-2023|19523.55|\n",
            "|    OPTIDX| NIFTY|28-Sep-2023|    18300|        PE|    0.4|    0.45|   0.05|     0.1| 19523.55|    34177|    312725.1|  275450|  -489200|28-SEP-2023|28-Sep-2023|19523.55|\n",
            "|    OPTIDX| NIFTY|28-Sep-2023|    18350|        PE|    0.6|     0.6|   0.05|     0.1| 19523.55|    24106|   221176.37|   43950|   -82900|28-SEP-2023|28-Sep-2023|19523.55|\n",
            "|    OPTIDX| NIFTY|28-Sep-2023|    18400|        PE|    0.6|    0.65|   0.05|     0.1| 19523.55|    51458|   473421.96|  379000|  -318450|28-SEP-2023|28-Sep-2023|19523.55|\n",
            "|    OPTIDX| NIFTY|28-Sep-2023|    18450|        PE|    0.6|     0.6|   0.05|     0.1| 19523.55|    30518|   281533.97|   44250|  -163050|28-SEP-2023|28-Sep-2023|19523.55|\n",
            "|    OPTIDX| NIFTY|28-Sep-2023|    18500|        PE|   0.45|    0.55|   0.05|    0.05| 19523.55|   190905|  1765904.32| 2477850| -1003050|28-SEP-2023|28-Sep-2023|19523.55|\n",
            "|    OPTIDX| NIFTY|28-Sep-2023|    18550|        PE|   0.55|     1.1|   0.05|     0.1| 19523.55|    38458|   356705.18|  115850|   -20500|28-SEP-2023|28-Sep-2023|19523.55|\n",
            "|    OPTIDX| NIFTY|28-Sep-2023|    18600|        PE|   0.65|    0.65|   0.05|    0.05| 19523.55|   163907|   1524363.1|  648700|  -316450|28-SEP-2023|28-Sep-2023|19523.55|\n",
            "|    OPTIDX| NIFTY|28-Sep-2023|    18650|        PE|    0.7|     0.7|   0.05|    0.05| 19523.55|    32329|   301473.33|  138650|    42550|28-SEP-2023|28-Sep-2023|19523.55|\n",
            "|    OPTIDX| NIFTY|28-Sep-2023|    18700|        PE|      1|       1|   0.05|     0.1| 19523.55|   184293|  1723173.23|  739450|  -426150|28-SEP-2023|28-Sep-2023|19523.55|\n",
            "|    OPTIDX| NIFTY|28-Sep-2023|    18750|        PE|    0.4|     0.7|   0.05|    0.05| 19523.55|    46056|   431783.83|  316400|    30800|28-SEP-2023|28-Sep-2023|19523.55|\n",
            "|    OPTIDX| NIFTY|28-Sep-2023|    18800|        PE|   0.55|    0.75|   0.05|     0.1| 19523.55|   166091|   1561292.6| 2056950| -1445650|28-SEP-2023|28-Sep-2023|19523.55|\n",
            "|    OPTIDX| NIFTY|28-Sep-2023|    18850|        PE|    0.9|    0.95|   0.05|     0.1| 19523.55|    52535|   495153.77|  281900|  -166350|28-SEP-2023|28-Sep-2023|19523.55|\n",
            "|    OPTIDX| NIFTY|28-Sep-2023|    18900|        PE|   0.65|     0.7|   0.05|    0.05| 19523.55|   382343|   3613220.4| 2090300|  -983850|28-SEP-2023|28-Sep-2023|19523.55|\n",
            "|    OPTIDX| NIFTY|28-Sep-2023|    18950|        PE|   0.75|     0.8|   0.05|     0.1| 19523.55|    88298|   836644.97|  226300|  -485800|28-SEP-2023|28-Sep-2023|19523.55|\n",
            "|    OPTIDX| NIFTY|28-Sep-2023|    19000|        PE|   0.85|    0.85|   0.05|     0.1| 19523.55|   611843|  5812650.46| 6676000| -3492150|28-SEP-2023|28-Sep-2023|19523.55|\n",
            "|    OPTIDX| NIFTY|28-Sep-2023|    19050|        PE|    1.1|     1.1|   0.05|    0.15| 19523.55|   198719|  1892850.85|  597900|  -667800|28-SEP-2023|28-Sep-2023|19523.55|\n",
            "|    OPTIDX| NIFTY|28-Sep-2023|    19100|        PE|    0.7|     1.2|   0.05|    0.15| 19523.55|   556631|   5315980.4| 1603750| -1402350|28-SEP-2023|28-Sep-2023|19523.55|\n",
            "|    OPTIDX| NIFTY|28-Sep-2023|    19150|        PE|   1.15|     1.4|   0.05|    0.15| 19523.55|   375828|   3598652.7|  667850| -1033450|28-SEP-2023|28-Sep-2023|19523.55|\n",
            "|    OPTIDX| NIFTY|28-Sep-2023|    19200|        PE|   1.45|    1.45|   0.05|    0.15| 19523.55|  1069651| 10268982.23| 3336200| -2378450|28-SEP-2023|28-Sep-2023|19523.55|\n",
            "|    OPTIDX| NIFTY|28-Sep-2023|    19250|        PE|    1.2|    1.25|   0.05|     0.2| 19523.55|   709756|  6831621.84| 1788400|  -747600|28-SEP-2023|28-Sep-2023|19523.55|\n",
            "|    OPTIDX| NIFTY|28-Sep-2023|    19300|        PE|   1.25|     1.4|   0.05|    0.25| 19523.55|  1997662| 19278175.54| 6823950|  1262250|28-SEP-2023|28-Sep-2023|19523.55|\n",
            "|    OPTIDX| NIFTY|28-Sep-2023|    19350|        PE|    1.5|     1.8|   0.05|    0.25| 19523.55|  2083577| 20159487.26| 3117350|  -629650|28-SEP-2023|28-Sep-2023|19523.55|\n",
            "|    OPTIDX| NIFTY|28-Sep-2023|    19400|        PE|    1.4|     2.1|   0.05|    0.25| 19523.55|  4943200| 47951508.87| 8432700|  1194450|28-SEP-2023|28-Sep-2023|19523.55|\n",
            "|    OPTIDX| NIFTY|28-Sep-2023|    19450|        PE|    2.2|     3.2|   0.05|    0.35| 19523.55|  6787034| 66008438.04| 4396700| -1195850|28-SEP-2023|28-Sep-2023|19523.55|\n",
            "|    OPTIDX| NIFTY|28-Sep-2023|    19500|        PE|    4.8|       9|   0.05|    1.55| 19523.55| 23013255|   224416017|14996400|  2573200|28-SEP-2023|28-Sep-2023|19523.55|\n",
            "|    OPTIDX| NIFTY|28-Sep-2023|    19550|        PE|    5.6|    46.5|    2.2|      26| 19523.55| 21882698|214051840.46| 6858500|  -221450|28-SEP-2023|28-Sep-2023|19523.55|\n",
            "|    OPTIDX| NIFTY|28-Sep-2023|    19600|        PE|    9.7|    96.5|      4|   75.95| 19523.55| 18020103|176838284.57| 8583500| -4558550|28-SEP-2023|28-Sep-2023|19523.55|\n",
            "|    OPTIDX| NIFTY|28-Sep-2023|    19650|        PE|   14.9|   146.7|   8.85|     127| 19523.55|  9842312| 96897896.85| 2858550| -4811950|28-SEP-2023|28-Sep-2023|19523.55|\n",
            "|    OPTIDX| NIFTY|28-Sep-2023|    19700|        PE|     34|   197.5|     19|   177.3| 19523.55|  7665989| 75754613.96| 4285400| -6381000|28-SEP-2023|28-Sep-2023|19523.55|\n",
            "|    OPTIDX| NIFTY|28-Sep-2023|    19750|        PE|  57.15|   247.4|   46.3|  227.45| 19523.55|  2788126|  27661320.2| 1286000| -1032950|28-SEP-2023|28-Sep-2023|19523.55|\n",
            "|    OPTIDX| NIFTY|28-Sep-2023|    19800|        PE|     91|   297.1|  82.25|  278.35| 19523.55|  1603923| 15993031.39| 2325400|  -905150|28-SEP-2023|28-Sep-2023|19523.55|\n",
            "|    OPTIDX| NIFTY|28-Sep-2023|    19850|        PE| 125.75|   347.4|  125.5|  328.05| 19523.55|   336046|  3365618.72|  253950|  -160000|28-SEP-2023|28-Sep-2023|19523.55|\n",
            "|    OPTIDX| NIFTY|28-Sep-2023|    19900|        PE|  176.1|  396.85|  171.5|  375.65| 19523.55|   273603|  2755352.29| 1028350|  -398250|28-SEP-2023|28-Sep-2023|19523.55|\n",
            "|    OPTIDX| NIFTY|28-Sep-2023|    19950|        PE|  223.8|   445.4| 220.15|   427.5| 19523.55|    44636|   451478.32|  111950|  -170750|28-SEP-2023|28-Sep-2023|19523.55|\n",
            "|    OPTIDX| NIFTY|28-Sep-2023|    20000|        PE|  265.3|   496.5|  265.3|  478.05| 19523.55|    73702|   750589.49|  849000|  -780900|28-SEP-2023|28-Sep-2023|19523.55|\n",
            "|    OPTIDX| NIFTY|28-Sep-2023|    20050|        PE|  323.5|   545.2|  318.7|   527.7| 19523.55|     4118|    42143.76|   46100|   -54550|28-SEP-2023|28-Sep-2023|19523.55|\n",
            "|    OPTIDX| NIFTY|28-Sep-2023|    20100|        PE|  373.6|  597.15|  371.3|   575.9| 19523.55|    10011|   103067.75|  211800|  -195050|28-SEP-2023|28-Sep-2023|19523.55|\n",
            "|    OPTIDX| NIFTY|28-Sep-2023|    20150|        PE| 425.95|   647.4|  418.1|  625.15| 19523.55|     1829|    18903.01|   36500|   -38750|28-SEP-2023|28-Sep-2023|19523.55|\n",
            "|    OPTIDX| NIFTY|28-Sep-2023|    20200|        PE| 483.05|   696.7|  471.4|   677.3| 19523.55|     7121|    73980.26|  713750|   -66600|28-SEP-2023|28-Sep-2023|19523.55|\n",
            "|    OPTIDX| NIFTY|28-Sep-2023|    20250|        PE| 528.45|  744.65|  522.7|   722.3| 19523.55|      462|     4832.15|   18450|   -10150|28-SEP-2023|28-Sep-2023|19523.55|\n",
            "|    OPTIDX| NIFTY|28-Sep-2023|    20300|        PE|  584.7|     798|  573.3|   778.5| 19523.55|     2171|    22782.91|   70200|   -39550|28-SEP-2023|28-Sep-2023|19523.55|\n",
            "|    OPTIDX| NIFTY|28-Sep-2023|    20350|        PE|  627.9|     845| 624.75|  823.85| 19523.55|      193|     2035.38|   27150|    -2500|28-SEP-2023|28-Sep-2023|19523.55|\n",
            "|    OPTIDX| NIFTY|28-Sep-2023|    20400|        PE| 679.85|  892.05| 673.85|  878.05| 19523.55|      429|     4542.51|   38350|    -3500|28-SEP-2023|28-Sep-2023|19523.55|\n",
            "|    OPTIDX| NIFTY|28-Sep-2023|    20450|        PE| 729.75|  928.45|  725.2|  919.85| 19523.55|       81|      863.23|   12400|     -550|28-SEP-2023|28-Sep-2023|19523.55|\n",
            "|    OPTIDX| NIFTY|28-Sep-2023|    20500|        PE|    775|  997.35|    774|   976.8| 19523.55|     4322|    46181.52|   91200|   -75350|28-SEP-2023|28-Sep-2023|19523.55|\n",
            "|    OPTIDX| NIFTY|28-Sep-2023|    20550|        PE| 830.55|  1030.5| 830.55|  1019.8| 19523.55|       16|       172.1|    2900|     -100|28-SEP-2023|28-Sep-2023|19523.55|\n",
            "|    OPTIDX| NIFTY|28-Sep-2023|    20600|        PE|  878.8|    1092| 874.65| 1079.15| 19523.55|      227|     2454.47|   10750|    -4500|28-SEP-2023|28-Sep-2023|19523.55|\n",
            "|    OPTIDX| NIFTY|28-Sep-2023|    20650|        PE| 927.35| 1128.25| 927.35|  1116.4| 19523.55|       25|      271.35|    6750|     -450|28-SEP-2023|28-Sep-2023|19523.55|\n",
            "|    OPTIDX| NIFTY|28-Sep-2023|    20700|        PE| 983.75|    1190| 975.15|  1179.9| 19523.55|      169|     1841.77|   12550|    -6850|28-SEP-2023|28-Sep-2023|19523.55|\n",
            "|    OPTIDX| NIFTY|28-Sep-2023|    20750|        PE|1079.45| 1215.75|   1071| 1214.95| 19523.55|       33|       360.7|    1250|      -50|28-SEP-2023|28-Sep-2023|19523.55|\n",
            "|    OPTIDX| NIFTY|28-Sep-2023|    20800|        PE|   1080|  1276.2|   1080| 1268.65| 19523.55|       20|      219.79|   11000|     -450|28-SEP-2023|28-Sep-2023|19523.55|\n",
            "|    OPTIDX| NIFTY|28-Sep-2023|    20850|        PE|      0|       0|      0| 1085.25| 19523.55|        0|           0|     200|        0|28-SEP-2023|28-Sep-2023|19523.55|\n",
            "|    OPTIDX| NIFTY|28-Sep-2023|    20900|        PE|   1181| 1381.45|   1180| 1381.45| 19523.55|       13|      144.49|    2600|     -150|28-SEP-2023|28-Sep-2023|19523.55|\n",
            "|    OPTIDX| NIFTY|28-Sep-2023|    20950|        PE|      0|       0|      0| 1265.95| 19523.55|        0|           0|     150|        0|28-SEP-2023|28-Sep-2023|19523.55|\n",
            "|    OPTIDX| NIFTY|28-Sep-2023|    21000|        PE| 1280.4|    1496| 1273.2| 1478.05| 19523.55|     3738|     41826.8|  181200|   -83850|28-SEP-2023|28-Sep-2023|19523.55|\n",
            "|    OPTIDX| NIFTY|28-Sep-2023|    21050|        PE|      0|       0|      0|  1836.1| 19523.55|        0|           0|       0|        0|28-SEP-2023|28-Sep-2023|19523.55|\n",
            "|    OPTIDX| NIFTY|28-Sep-2023|    21100|        PE|      0|       0|      0|  1388.2| 19523.55|        0|           0|     950|        0|28-SEP-2023|28-Sep-2023|19523.55|\n",
            "|    OPTIDX| NIFTY|28-Sep-2023|    21150|        PE|      0|       0|      0| 1369.15| 19523.55|        0|           0|     100|        0|28-SEP-2023|28-Sep-2023|19523.55|\n",
            "|    OPTIDX| NIFTY|28-Sep-2023|    21200|        PE|   1582|    1582|   1582|    1582| 19523.55|        5|       56.95|     400|      -50|28-SEP-2023|28-Sep-2023|19523.55|\n",
            "|    OPTIDX| NIFTY|28-Sep-2023|    21250|        PE|      0|       0|      0|  1227.1| 19523.55|        0|           0|     200|        0|28-SEP-2023|28-Sep-2023|19523.55|\n",
            "|    OPTIDX| NIFTY|28-Sep-2023|    21300|        PE|      0|       0|      0| 1589.35| 19523.55|        0|           0|     250|        0|28-SEP-2023|28-Sep-2023|19523.55|\n",
            "|    OPTIDX| NIFTY|28-Sep-2023|    21350|        PE|      0|       0|      0|  1620.3| 19523.55|        0|           0|     150|        0|28-SEP-2023|28-Sep-2023|19523.55|\n",
            "|    OPTIDX| NIFTY|28-Sep-2023|    21400|        PE|      0|       0|      0|  1795.8| 19523.55|        0|           0|     350|        0|28-SEP-2023|28-Sep-2023|19523.55|\n",
            "|    OPTIDX| NIFTY|28-Sep-2023|    21450|        PE|      0|       0|      0| 2181.95| 19523.55|        0|           0|       0|        0|28-SEP-2023|28-Sep-2023|19523.55|\n",
            "|    OPTIDX| NIFTY|28-Sep-2023|    21500|        PE|   1792|    1993|1790.85|  1981.6| 19523.55|      813|     9514.98|   23150|   -26250|28-SEP-2023|28-Sep-2023|19523.55|\n",
            "|    OPTIDX| NIFTY|28-Sep-2023|    21550|        PE|      0|       0|      0|    2271| 19523.55|        0|           0|       0|        0|28-SEP-2023|28-Sep-2023|19523.55|\n",
            "+----------+------+-----------+---------+----------+-------+--------+-------+--------+---------+---------+------------+--------+---------+-----------+-----------+--------+\n",
            "only showing top 185 rows\n",
            "\n"
          ]
        }
      ]
    },
    {
      "cell_type": "code",
      "source": [
        "join_df.filter(\"upper(timestamp) = '28-SEP-2023' and option_typ = 'XX'\").select('instrument', 'symbol', 'expiry_dt', 'strike_pr', 'option_typ', 'timestamp', 'close', 'date', 'nclose').show()"
      ],
      "metadata": {
        "id": "W36d6C81mrPz",
        "colab": {
          "base_uri": "https://localhost:8080/"
        },
        "outputId": "10fce5ac-a051-415c-eaaa-fdc55089e302"
      },
      "execution_count": 24,
      "outputs": [
        {
          "output_type": "stream",
          "name": "stdout",
          "text": [
            "+----------+------+-----------+---------+----------+-----------+--------+-----------+--------+\n",
            "|instrument|symbol|  expiry_dt|strike_pr|option_typ|  timestamp|   close|       date|  nclose|\n",
            "+----------+------+-----------+---------+----------+-----------+--------+-----------+--------+\n",
            "|    FUTIDX| NIFTY|28-Sep-2023|        0|        XX|28-SEP-2023|19522.95|28-Sep-2023|19523.55|\n",
            "+----------+------+-----------+---------+----------+-----------+--------+-----------+--------+\n",
            "\n"
          ]
        }
      ]
    }
  ]
}